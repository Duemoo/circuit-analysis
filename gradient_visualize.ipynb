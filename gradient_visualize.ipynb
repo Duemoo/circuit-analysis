{
 "cells": [
  {
   "cell_type": "code",
   "execution_count": 1,
   "metadata": {},
   "outputs": [],
   "source": [
    "import os\n",
    "import numpy as np\n",
    "import torch\n",
    "from transformers import AutoModelForCausalLM\n",
    "import plotly.graph_objects as go\n",
    "from plotly.subplots import make_subplots\n",
    "import ipywidgets as widgets\n",
    "from IPython.display import display\n",
    "from tqdm.notebook import tqdm\n",
    "\n",
    "def load_checkpoint(checkpoint_path, step):\n",
    "    path = os.path.join(checkpoint_path, f\"checkpoint-{step}\")\n",
    "    return AutoModelForCausalLM.from_pretrained(path, torch_dtype=torch.float32)\n",
    "\n",
    "def is_bias_or_layernorm(param_name):\n",
    "    return 'bias' in param_name.lower() or 'ln' in param_name.lower()\n",
    "\n",
    "@torch.no_grad()\n",
    "def precompute_differences(checkpoint_path, start_step=0, end_step=999, omit_bias_layernorm=True):\n",
    "    print(\"Precomputing differences...\")\n",
    "    all_differences = []\n",
    "    param_names = None\n",
    "    param_shapes = None\n",
    "\n",
    "    for step in tqdm(range(start_step, end_step)):\n",
    "        model1 = load_checkpoint(checkpoint_path, step)\n",
    "        model2 = load_checkpoint(checkpoint_path, step + 1)\n",
    "\n",
    "        step_differences = {}\n",
    "        \n",
    "        if param_names is None:\n",
    "            param_names = [name for name, _ in model1.named_parameters() \n",
    "                           if not (omit_bias_layernorm and is_bias_or_layernorm(name))]\n",
    "            param_shapes = {name: param.shape for name, param in model1.named_parameters() \n",
    "                            if not (omit_bias_layernorm and is_bias_or_layernorm(name))}\n",
    "\n",
    "        for (name1, param1), (name2, param2) in zip(model1.named_parameters(), model2.named_parameters()):\n",
    "            assert name1 == name2, f\"Parameter names do not match: {name1} vs {name2}\"\n",
    "            \n",
    "            if omit_bias_layernorm and is_bias_or_layernorm(name1):\n",
    "                continue\n",
    "            \n",
    "            diff = param2.data - param1.data\n",
    "            diff_np = diff.cpu().numpy()\n",
    "            step_differences[name1] = diff_np\n",
    "\n",
    "        all_differences.append(step_differences)\n",
    "        \n",
    "        del model1, model2\n",
    "        torch.cuda.empty_cache()\n",
    "\n",
    "    return all_differences, param_names, param_shapes"
   ]
  },
  {
   "cell_type": "code",
   "execution_count": 12,
   "metadata": {},
   "outputs": [],
   "source": [
    "@torch.no_grad()\n",
    "def precompute_parameter_values(checkpoint_path, start_step=0, end_step=999, omit_bias_layernorm=False):\n",
    "    print(\"Precomputing parameter values...\")\n",
    "    all_parameter_values = []\n",
    "    param_names = None\n",
    "    param_shapes = None\n",
    "\n",
    "    for step in tqdm(range(start_step, end_step + 1)):\n",
    "        model = load_checkpoint(checkpoint_path, step)\n",
    "\n",
    "        step_values = {}\n",
    "        \n",
    "        if param_names is None:\n",
    "            param_names = [name for name, _ in model.named_parameters() \n",
    "                           if not (omit_bias_layernorm and is_bias_or_layernorm(name))]\n",
    "            param_shapes = {name: param.shape for name, param in model.named_parameters() \n",
    "                            if not (omit_bias_layernorm and is_bias_or_layernorm(name))}\n",
    "\n",
    "        for name, param in model.named_parameters():\n",
    "            if omit_bias_layernorm and is_bias_or_layernorm(name):\n",
    "                continue\n",
    "            \n",
    "            param_np = param.cpu().numpy()\n",
    "            step_values[name] = param_np\n",
    "\n",
    "        all_parameter_values.append(step_values)\n",
    "        \n",
    "        del model\n",
    "        torch.cuda.empty_cache()\n",
    "\n",
    "    return all_parameter_values, param_names, param_shapes"
   ]
  },
  {
   "cell_type": "code",
   "execution_count": 13,
   "metadata": {},
   "outputs": [],
   "source": [
    "def get_histogram_ranges(all_differences, param_names):\n",
    "    all_diffs = np.concatenate([diff[name].flatten() for diff in all_differences for name in param_names])\n",
    "    x_min, x_max = np.percentile(all_diffs, [0.1, 99.9])\n",
    "    y_max = 0\n",
    "    \n",
    "    for diff in all_differences:\n",
    "        all_diffs_flat = np.concatenate([diff[name].flatten() for name in param_names])\n",
    "        hist, _ = np.histogram(all_diffs_flat, bins=50, range=(x_min, x_max))\n",
    "        y_max = max(y_max, hist.max())\n",
    "    \n",
    "    return x_min, x_max, y_max\n",
    "\n",
    "def create_interactive_plot_diffs(all_differences, param_names, param_shapes, interval, step):\n",
    "    n_params = len(param_names)\n",
    "    n_cols = 3\n",
    "    n_rows = (n_params + n_cols - 1) // n_cols + 1  # +1 for the histogram\n",
    "\n",
    "    fig = make_subplots(rows=n_rows, cols=n_cols, subplot_titles=param_names + [\"Distribution of All Parameter Differences\"])\n",
    "    fig_widget = go.FigureWidget(fig)\n",
    "\n",
    "    all_diffs_flat = np.concatenate([all_differences[0][name].flatten() for name in param_names])\n",
    "    vmin, vmax = np.percentile(all_diffs_flat, [1, 99])\n",
    "\n",
    "    for idx, name in enumerate(param_names):\n",
    "        row = idx // n_cols + 1\n",
    "        col = idx % n_cols + 1\n",
    "        \n",
    "        diff = all_differences[0][name]\n",
    "        \n",
    "        if len(param_shapes[name]) == 1:  # For 1D tensors\n",
    "            heatmap = go.Heatmap(z=[diff], colorscale='RdBu', zmin=vmin, zmax=vmax, zmid=0)\n",
    "        else:\n",
    "            heatmap = go.Heatmap(z=diff, colorscale='RdBu', zmin=vmin, zmax=vmax, zmid=0)\n",
    "        \n",
    "        fig_widget.add_trace(heatmap, row=row, col=col)\n",
    "        fig_widget.update_xaxes(title_text=f\"Shape: {param_shapes[name]}\", row=row, col=col)\n",
    "        fig_widget.update_yaxes(title_text=name, row=row, col=col)\n",
    "\n",
    "    # Get fixed ranges for histogram\n",
    "    x_min, x_max, y_max = get_histogram_ranges(all_differences, param_names)\n",
    "\n",
    "    # Plot histogram of all differences\n",
    "    fig_widget.add_trace(go.Histogram(x=all_diffs_flat, nbinsx=50, autobinx=False, xbins=dict(start=x_min, end=x_max, size=(x_max-x_min)/50)), row=n_rows, col=1)\n",
    "    fig_widget.update_xaxes(title_text=\"Difference Value\", range=[x_min, x_max], row=n_rows, col=1)\n",
    "    fig_widget.update_yaxes(title_text=\"Frequency\", range=[0, y_max * 1.1], row=n_rows, col=1)\n",
    "\n",
    "    fig_widget.update_layout(height=300*n_rows, width=1200)\n",
    "\n",
    "    def update_plot(step):\n",
    "        diff_dict = all_differences[step]\n",
    "        all_diffs_flat = np.concatenate([diff_dict[name].flatten() for name in param_names])\n",
    "\n",
    "        for idx, name in enumerate(param_names):\n",
    "            diff = diff_dict[name]\n",
    "            if len(param_shapes[name]) == 1:\n",
    "                fig_widget.data[idx].z = [diff]\n",
    "            else:\n",
    "                fig_widget.data[idx].z = diff\n",
    "\n",
    "        fig_widget.data[-1].x = all_diffs_flat\n",
    "        fig_widget.layout.title.text = f\"Parameter Differences between Checkpoints {step} and {step+1}\"\n",
    "\n",
    "    step_slider = widgets.IntSlider(\n",
    "        value=0,\n",
    "        min=0,\n",
    "        max=len(all_differences)-1,\n",
    "        step=1,\n",
    "        description='Step:',\n",
    "        continuous_update=False\n",
    "    )\n",
    "\n",
    "    play_button = widgets.Play(\n",
    "        value=0,\n",
    "        min=0,\n",
    "        max=len(all_differences)-1,\n",
    "        step=step,\n",
    "        interval=interval,\n",
    "        description=\"Play\",\n",
    "        disabled=False\n",
    "    )\n",
    "\n",
    "    widgets.jslink((play_button, 'value'), (step_slider, 'value'))\n",
    "\n",
    "    def on_value_change(change):\n",
    "        update_plot(change['new'])\n",
    "\n",
    "    step_slider.observe(on_value_change, names='value')\n",
    "\n",
    "    controls = widgets.HBox([play_button, step_slider])\n",
    "    output = widgets.VBox([controls, fig_widget])\n",
    "    display(output)\n",
    "\n",
    "    # Initial plot\n",
    "    update_plot(0)"
   ]
  },
  {
   "cell_type": "code",
   "execution_count": 17,
   "metadata": {},
   "outputs": [],
   "source": [
    "def create_interactive_plot_params(all_parameter_values, param_names, param_shapes, interval, step):\n",
    "    n_params = len(param_names)\n",
    "    n_cols = 3\n",
    "    n_rows = (n_params + n_cols - 1) // n_cols + 1  # +1 for the histogram\n",
    "\n",
    "    fig = make_subplots(rows=n_rows, cols=n_cols, subplot_titles=param_names + [\"Distribution of All Parameter Values\"])\n",
    "    fig_widget = go.FigureWidget(fig)\n",
    "\n",
    "    all_values_flat = np.concatenate([all_parameter_values[0][name].flatten() for name in param_names])\n",
    "    vmin, vmax = np.percentile(all_values_flat, [1, 99])\n",
    "\n",
    "    for idx, name in enumerate(param_names):\n",
    "        row = idx // n_cols + 1\n",
    "        col = idx % n_cols + 1\n",
    "        \n",
    "        values = all_parameter_values[0][name]\n",
    "        \n",
    "        if len(param_shapes[name]) == 1:  # For 1D tensors\n",
    "            heatmap = go.Heatmap(z=[values], colorscale='RdBu', zmin=vmin, zmax=vmax, zmid=0)\n",
    "        else:\n",
    "            heatmap = go.Heatmap(z=values, colorscale='RdBu', zmin=vmin, zmax=vmax, zmid=0)\n",
    "        \n",
    "        fig_widget.add_trace(heatmap, row=row, col=col)\n",
    "        fig_widget.update_xaxes(title_text=f\"Shape: {param_shapes[name]}\", row=row, col=col)\n",
    "        fig_widget.update_yaxes(title_text=name, row=row, col=col)\n",
    "\n",
    "    # Get fixed ranges for histogram\n",
    "    x_min, x_max, y_max = get_histogram_ranges(all_parameter_values, param_names)\n",
    "\n",
    "    # Plot histogram of all parameter values\n",
    "    fig_widget.add_trace(go.Histogram(x=all_values_flat, nbinsx=50, autobinx=False, xbins=dict(start=x_min, end=x_max, size=(x_max-x_min)/50)), row=n_rows, col=1)\n",
    "    fig_widget.update_xaxes(title_text=\"Parameter Value\", range=[x_min, x_max], row=n_rows, col=1)\n",
    "    fig_widget.update_yaxes(title_text=\"Frequency\", range=[0, y_max * 1.1], row=n_rows, col=1)\n",
    "\n",
    "    fig_widget.update_layout(height=300*n_rows, width=1200)\n",
    "\n",
    "    def update_plot(step):\n",
    "        value_dict = all_parameter_values[step]\n",
    "        all_values_flat = np.concatenate([value_dict[name].flatten() for name in param_names])\n",
    "\n",
    "        for idx, name in enumerate(param_names):\n",
    "            values = value_dict[name]\n",
    "            if len(param_shapes[name]) == 1:\n",
    "                fig_widget.data[idx].z = [values]\n",
    "            else:\n",
    "                fig_widget.data[idx].z = values\n",
    "\n",
    "        fig_widget.data[-1].x = all_values_flat\n",
    "        fig_widget.layout.title.text = f\"Parameter Values at Checkpoint {step}\"\n",
    "\n",
    "    step_slider = widgets.IntSlider(\n",
    "        value=0,\n",
    "        min=0,\n",
    "        max=len(all_parameter_values)-1,\n",
    "        step=1,\n",
    "        description='Step:',\n",
    "        continuous_update=False\n",
    "    )\n",
    "\n",
    "    play_button = widgets.Play(\n",
    "        value=0,\n",
    "        min=0,\n",
    "        max=len(all_parameter_values)-1,\n",
    "        step=step,\n",
    "        interval=interval,\n",
    "        description=\"Play\",\n",
    "        disabled=False\n",
    "    )\n",
    "\n",
    "    widgets.jslink((play_button, 'value'), (step_slider, 'value'))\n",
    "\n",
    "    def on_value_change(change):\n",
    "        update_plot(change['new'])\n",
    "\n",
    "    step_slider.observe(on_value_change, names='value')\n",
    "\n",
    "    controls = widgets.HBox([play_button, step_slider])\n",
    "    output = widgets.VBox([controls, fig_widget])\n",
    "    display(output)\n",
    "\n",
    "    # Initial plot\n",
    "    update_plot(0)"
   ]
  },
  {
   "cell_type": "code",
   "execution_count": 22,
   "metadata": {},
   "outputs": [
    {
     "name": "stdout",
     "output_type": "stream",
     "text": [
      "Precomputing differences...\n"
     ]
    },
    {
     "data": {
      "application/vnd.jupyter.widget-view+json": {
       "model_id": "e271768f01f54c7480ab9278cf20bc66",
       "version_major": 2,
       "version_minor": 0
      },
      "text/plain": [
       "  0%|          | 0/19999 [00:00<?, ?it/s]"
      ]
     },
     "metadata": {},
     "output_type": "display_data"
    }
   ],
   "source": [
    "checkpoint_dir = '/home/hoyeon/circuit-analysis/checkpoints'\n",
    "# exp_name = 'L1_H1_E16_wd1_len10_bsize1_code10_lr-4_pure-mixed'\n",
    "exp_name = 'L1_H1_E16_len10_code10_pos5_bsize64_lr0.0001_wd0.1_pure-mixed'\n",
    "checkpoint_path = os.path.join(checkpoint_dir, exp_name)\n",
    "\n",
    "start_step = 0\n",
    "end_step = 19999  # Adjust this based on your total number of checkpoints\n",
    "\n",
    "# Precompute differences\n",
    "all_differences, param_names, param_shapes = precompute_differences(checkpoint_path, start_step, end_step)"
   ]
  },
  {
   "cell_type": "code",
   "execution_count": 23,
   "metadata": {},
   "outputs": [
    {
     "name": "stdout",
     "output_type": "stream",
     "text": [
      "Precomputing parameter values...\n"
     ]
    },
    {
     "data": {
      "application/vnd.jupyter.widget-view+json": {
       "model_id": "b2b81f8e99f14fd6a8964677a528c340",
       "version_major": 2,
       "version_minor": 0
      },
      "text/plain": [
       "  0%|          | 0/20000 [00:00<?, ?it/s]"
      ]
     },
     "metadata": {},
     "output_type": "display_data"
    }
   ],
   "source": [
    "all_parameter_values, param_names, param_shapes = precompute_parameter_values(checkpoint_path, start_step, end_step, omit_bias_layernorm=True)"
   ]
  },
  {
   "cell_type": "code",
   "execution_count": 24,
   "metadata": {},
   "outputs": [
    {
     "data": {
      "application/vnd.jupyter.widget-view+json": {
       "model_id": "f35b507410b24cf2870c3d5f3adc2459",
       "version_major": 2,
       "version_minor": 0
      },
      "text/plain": [
       "VBox(children=(HBox(children=(Play(value=0, description='Play', interval=10, max=19998, step=10), IntSlider(va…"
      ]
     },
     "metadata": {},
     "output_type": "display_data"
    }
   ],
   "source": [
    "# Create interactive plot\n",
    "create_interactive_plot_diffs(all_differences, param_names, param_shapes, interval=10, step=10)"
   ]
  },
  {
   "cell_type": "code",
   "execution_count": 25,
   "metadata": {},
   "outputs": [
    {
     "data": {
      "application/vnd.jupyter.widget-view+json": {
       "model_id": "75b55e83c4814c188d72512e9e6940b1",
       "version_major": 2,
       "version_minor": 0
      },
      "text/plain": [
       "VBox(children=(HBox(children=(Play(value=0, description='Play', interval=10, max=19999, step=10), IntSlider(va…"
      ]
     },
     "metadata": {},
     "output_type": "display_data"
    }
   ],
   "source": [
    "create_interactive_plot_params(all_parameter_values, param_names, param_shapes, interval=10, step=10)"
   ]
  },
  {
   "cell_type": "code",
   "execution_count": null,
   "metadata": {},
   "outputs": [],
   "source": []
  }
 ],
 "metadata": {
  "kernelspec": {
   "display_name": "circuit",
   "language": "python",
   "name": "python3"
  },
  "language_info": {
   "codemirror_mode": {
    "name": "ipython",
    "version": 3
   },
   "file_extension": ".py",
   "mimetype": "text/x-python",
   "name": "python",
   "nbconvert_exporter": "python",
   "pygments_lexer": "ipython3",
   "version": "3.10.4"
  }
 },
 "nbformat": 4,
 "nbformat_minor": 2
}
